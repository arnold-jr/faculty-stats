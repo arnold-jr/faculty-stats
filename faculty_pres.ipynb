{
 "cells": [
  {
   "cell_type": "markdown",
   "metadata": {
    "slideshow": {
     "slide_type": "slide"
    }
   },
   "source": [
    "# Analyzing Engineering Faculty Member Bios"
   ]
  },
  {
   "cell_type": "code",
   "execution_count": 1,
   "metadata": {
    "collapsed": false,
    "slideshow": {
     "slide_type": "-"
    }
   },
   "outputs": [
    {
     "data": {
      "text/html": [
       "<iframe width=\"100%\" height=\"550\" \n",
       "src=\"http://engineering.vanderbilt.edu/people/\"></iframe>"
      ]
     },
     "execution_count": 1,
     "metadata": {},
     "output_type": "execute_result"
    }
   ],
   "source": [
    "%%html\n",
    "<iframe width=\"100%\" height=\"550\" \n",
    "src=\"http://engineering.vanderbilt.edu/people/\">\n",
    "</iframe>"
   ]
  },
  {
   "cell_type": "markdown",
   "metadata": {
    "slideshow": {
     "slide_type": "slide"
    }
   },
   "source": [
    "## Tranform XML to JSON "
   ]
  },
  {
   "cell_type": "markdown",
   "metadata": {
    "slideshow": {
     "slide_type": "-"
    }
   },
   "source": [
    "```html\n",
    "<td>\n",
    "    <h4>\n",
    "        <a href=\"/bio/michael-alles\">Michael Alles</a>\n",
    "    </h4>\n",
    "    <br>\n",
    "    <strong>Intellectual Neighborhoods:</strong> \n",
    "    Risk and Reliability,Nano Science and Technology\n",
    "</td>\n",
    "```"
   ]
  },
  {
   "cell_type": "markdown",
   "metadata": {
    "slideshow": {
     "slide_type": "-"
    }
   },
   "source": [
    "```javascript\n",
    "{\n",
    "    \"name\":\"Michael Alles\",\n",
    "    \"focus\":\"\",\n",
    "    \"nhood\":\" Risk and Reliability,Nano Science and Technology\"\n",
    "}\n",
    "```"
   ]
  },
  {
   "cell_type": "markdown",
   "metadata": {
    "slideshow": {
     "slide_type": "slide"
    }
   },
   "source": [
    "## Use Word2Vec to Find Synonyms in Research Focus"
   ]
  },
  {
   "cell_type": "code",
   "execution_count": 2,
   "metadata": {
    "collapsed": false,
    "slideshow": {
     "slide_type": "fragment"
    }
   },
   "outputs": [],
   "source": [
    "val sqlc = sqlContext\n",
    "import sqlc.implicits._\n",
    "val facultyDF = sqlc.read.json(\"tmp/engineeringFaculty.json\")\n",
    "facultyDF.registerTempTable(\"faculty\")"
   ]
  },
  {
   "cell_type": "code",
   "execution_count": 3,
   "metadata": {
    "collapsed": false,
    "slideshow": {
     "slide_type": "fragment"
    }
   },
   "outputs": [
    {
     "data": {
      "text/plain": [
       "+--------------------+-------------------+--------------------+\n",
       "|               focus|               name|               nhood|\n",
       "+--------------------+-------------------+--------------------+\n",
       "| Risk management,...|      Mark Abkowitz| Risk and Reliabi...|\n",
       "| Nonlinear struct...|      Douglas Adams| Risk and Reliabi...|\n",
       "| Human-System Int...|     Julie A. Adams| Cyber Physical S...|\n",
       "|         Development|     Nicholas Adams|                    |\n",
       "|                    |      Michael Alles| Risk and Reliabi...|\n",
       "| Magnetic resonan...|      Adam Anderson| Biomedical Imagi...|\n",
       "| Drop dynamics, a...|    A. V. Anilkumar| Energy and Natur...|\n",
       "|                    |     Theodore Bapty|                    |\n",
       "| Solar energy con...|      Rizia Bardhan| Regenerative Med...|\n",
       "| Welding and weld...|Robert Joel Barnett| Energy and Natur...|\n",
       "+--------------------+-------------------+--------------------+\n",
       "only showing top 10 rows\n",
       "\n"
      ]
     },
     "execution_count": 3,
     "metadata": {},
     "output_type": "execute_result"
    }
   ],
   "source": [
    "%%SQL\n",
    "SELECT * FROM faculty"
   ]
  },
  {
   "cell_type": "markdown",
   "metadata": {
    "slideshow": {
     "slide_type": "slide"
    }
   },
   "source": [
    "## Select and transform input data using SQL queries"
   ]
  },
  {
   "cell_type": "code",
   "execution_count": 4,
   "metadata": {
    "collapsed": false,
    "slideshow": {
     "slide_type": "fragment"
    }
   },
   "outputs": [
    {
     "name": "stdout",
     "output_type": "stream",
     "text": [
      "+--------------------+\n",
      "|               focus|\n",
      "+--------------------+\n",
      "|[Risk, management...|\n",
      "|[Nonlinear, struc...|\n",
      "|[Human, System, I...|\n",
      "|       [Development]|\n",
      "|[Magnetic, resona...|\n",
      "|[Drop, dynamics, ...|\n",
      "|[Solar, energy, c...|\n",
      "|[Welding, and, we...|\n",
      "|[Dynamic, systems...|\n",
      "|[Multiscale, beha...|\n",
      "|[Bioinstrumentati...|\n",
      "|[Microfluidics, m...|\n",
      "|[Tech, based, ent...|\n",
      "|[Technology, stra...|\n",
      "|[Computer, aided,...|\n",
      "|[Modeling, and, a...|\n",
      "|[Radiation, effec...|\n",
      "|[Virtual, Environ...|\n",
      "|[nanoscience, gra...|\n",
      "|[Information, pro...|\n",
      "+--------------------+\n",
      "only showing top 20 rows\n",
      "\n"
     ]
    }
   ],
   "source": [
    "val focusDF = sqlc.sql(\"SELECT focus FROM faculty WHERE LENGTH(focus)>0\")\n",
    "\n",
    "// Transform String to Tuple1[List[String]]\n",
    "val focusSplitDF = focusDF.map(r => Tuple1(r(0).toString\n",
    "  .replaceAll(\"\"\"[\\p{Punct}]\"\"\",\" \").split(\"\\\\s+\").filterNot(_ == \"\"))\n",
    ").toDF(\"focus\")\n",
    "\n",
    "focusSplitDF.show()"
   ]
  },
  {
   "cell_type": "code",
   "execution_count": 14,
   "metadata": {
    "collapsed": false,
    "slideshow": {
     "slide_type": "slide"
    }
   },
   "outputs": [
    {
     "name": "stdout",
     "output_type": "stream",
     "text": [
      "+---------------+--------------------+\n",
      "|           word|          similarity|\n",
      "+---------------+--------------------+\n",
      "|      Hydrology|0.009062745917056093|\n",
      "|      signaling|0.007882261001329424|\n",
      "|       Modeling|0.007774564754125474|\n",
      "|     underwater|0.007724221027430538|\n",
      "|       spectral|0.007616483427429222|\n",
      "|        antigen|0.007540289727149277|\n",
      "|    distributed|0.007514163031044968|\n",
      "|        welding|0.007366753454299188|\n",
      "|         Secure|0.007362351015667...|\n",
      "|      appraisal|0.007210608123060892|\n",
      "|        display|0.007104453107582285|\n",
      "|  environmental| 0.00675192222738749|\n",
      "|           path|0.006719895624075037|\n",
      "|      batteries|0.006464656359015513|\n",
      "|        cardiac|0.006458926007323657|\n",
      "|electrochemical|0.006457020772064...|\n",
      "|       Computer|0.006418360492989414|\n",
      "|          Raman|0.006353728381891622|\n",
      "|       learning|0.006349404061198687|\n",
      "|       recovery|0.006339612316653455|\n",
      "+---------------+--------------------+\n",
      "only showing top 20 rows\n",
      "\n"
     ]
    }
   ],
   "source": [
    "import org.apache.spark.ml.feature.{Word2Vec, StopWordsRemover}\n",
    "\n",
    "// Remove stop words\n",
    "val remover = new StopWordsRemover().setInputCol(\"focus\").setOutputCol(\"filtered\")\n",
    "val dataSet = remover.transform(focusSplitDF)\n",
    "\n",
    "// Learn a mapping from words to Vectors\n",
    "val word2Vec = (new Word2Vec()\n",
    "  .setInputCol(\"filtered\")\n",
    "  .setOutputCol(\"result\")\n",
    "  .setVectorSize(100)\n",
    "  .setMinCount(0))\n",
    "val model = word2Vec.fit(dataSet)\n",
    "val resultDF = model.findSynonyms(\"data\", 50)\n",
    "\n",
    "resultDF.show()"
   ]
  },
  {
   "cell_type": "markdown",
   "metadata": {
    "slideshow": {
     "slide_type": "slide"
    }
   },
   "source": [
    "# Analyze all faculty"
   ]
  },
  {
   "cell_type": "code",
   "execution_count": 4,
   "metadata": {
    "collapsed": false,
    "slideshow": {
     "slide_type": "-"
    }
   },
   "outputs": [
    {
     "data": {
      "text/html": [
       "<iframe width=\"100%\" height=\"550\" \n",
       "src=\"http://virg.vanderbilt.edu/webtools/registry/FacDetail.aspx?fname=&lname=A&school=0&dept=0\">\n",
       "</iframe>"
      ]
     },
     "execution_count": 4,
     "metadata": {},
     "output_type": "execute_result"
    }
   ],
   "source": [
    "%%html\n",
    "<iframe width=\"100%\" height=\"550\" \n",
    "src=\"http://virg.vanderbilt.edu/webtools/registry/FacDetail.aspx?fname=&lname=A&school=0&dept=0\">\n",
    "</iframe>"
   ]
  }
 ],
 "metadata": {
  "celltoolbar": "Slideshow",
  "kernelspec": {
   "display_name": "Apache Toree - Scala",
   "language": "scala",
   "name": "apache_toree_scala"
  },
  "language_info": {
   "name": "scala",
   "version": "2.10.4"
  }
 },
 "nbformat": 4,
 "nbformat_minor": 0
}
